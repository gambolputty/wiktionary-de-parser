{
 "cells": [
  {
   "cell_type": "code",
   "execution_count": 1,
   "metadata": {},
   "outputs": [
    {
     "name": "stdout",
     "output_type": "stream",
     "text": [
      "Dump file already exists.\n"
     ]
    }
   ],
   "source": [
    "from wiktionary_de_parser.dump_processor import WiktionaryDump\n",
    "\n",
    "\n",
    "dump = WiktionaryDump(\n",
    "    dump_dir_path=\"tmp\",\n",
    "    dump_download_url=\"https://dumps.wikimedia.org/dewiktionary/latest/dewiktionary-latest-pages-articles-multistream.xml.bz2\",\n",
    ")\n",
    "dump.download_latest_dump()"
   ]
  },
  {
   "cell_type": "code",
   "execution_count": 2,
   "metadata": {},
   "outputs": [
    {
     "name": "stdout",
     "output_type": "stream",
     "text": [
      "Dump file already exists.\n",
      "ParsedWiktionaryPageEntry(name='Abend', flexion={'Genus': 'm', 'Nominativ Singular': 'Abend', 'Nominativ Plural': 'Abende', 'Genitiv Singular': 'Abends', 'Genitiv Plural': 'Abende', 'Dativ Singular': 'Abend', 'Dativ Plural': 'Abenden', 'Akkusativ Singular': 'Abend', 'Akkusativ Plural': 'Abende'}, ipa=['ˈaːbn̩t', 'ˈaːbm̩t'], language=Language(lang='Deutsch', lang_code='de'), lemma=Lemma(lemma='Abend', inflected=False), pos={'Substantiv': []}, rhymes=['aːbn̩t'], syllables=['Abend'])\n",
      "ParsedWiktionaryPageEntry(name='Abend', flexion=None, ipa=['ˈaːbn̩t'], language=Language(lang='Deutsch', lang_code='de'), lemma=Lemma(lemma='Abend', inflected=False), pos={'Substantiv': ['Nachname']}, rhymes=['aːbn̩t'], syllables=['Abend'])\n",
      "ParsedWiktionaryPageEntry(name='Abend', flexion=None, ipa=['ˈaːbn̩t', 'ˈaːbm̩t'], language=Language(lang='Deutsch', lang_code='de'), lemma=Lemma(lemma='Abend', inflected=False), pos={'Substantiv': ['Toponym']}, rhymes=['aːbn̩t'], syllables=['Abend'])\n"
     ]
    }
   ],
   "source": [
    "from pprint import pprint\n",
    "from wiktionary_de_parser import WiktionaryParser\n",
    "from wiktionary_de_parser.dump_processor import WiktionaryDump\n",
    "\n",
    "\n",
    "dump = WiktionaryDump(dump_dir_path=\"tmp\")\n",
    "dump.download_latest_dump()\n",
    "\n",
    "parser = WiktionaryParser()\n",
    "\n",
    "for page in dump.pages():\n",
    "    if page.redirect_to:\n",
    "        continue\n",
    "\n",
    "    if page.name != \"Abend\":\n",
    "        continue\n",
    "\n",
    "    for entry in parser.entries_from_page(page):\n",
    "        results = parser.parse_entry(entry)\n",
    "\n",
    "        pprint(results)\n",
    "    break"
   ]
  }
 ],
 "metadata": {
  "kernelspec": {
   "display_name": ".venv",
   "language": "python",
   "name": "python3"
  },
  "language_info": {
   "codemirror_mode": {
    "name": "ipython",
    "version": 3
   },
   "file_extension": ".py",
   "mimetype": "text/x-python",
   "name": "python",
   "nbconvert_exporter": "python",
   "pygments_lexer": "ipython3",
   "version": "3.11.3"
  }
 },
 "nbformat": 4,
 "nbformat_minor": 2
}
