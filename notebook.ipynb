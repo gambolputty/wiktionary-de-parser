{
 "cells": [
  {
   "cell_type": "code",
   "execution_count": null,
   "metadata": {},
   "outputs": [],
   "source": [
    "from wiktionary_de_parser.dump_processor import WiktionaryDump\n",
    "\n",
    "\n",
    "dump = WiktionaryDump(\n",
    "    dump_file_path=\"tmp/dewiktionary-latest-pages-articles-multistream.xml.bz2\"\n",
    ")\n",
    "dump.download_dump()"
   ]
  },
  {
   "cell_type": "code",
   "execution_count": null,
   "metadata": {},
   "outputs": [],
   "source": [
    "from pprint import pprint\n",
    "from wiktionary_de_parser import WiktionaryParser\n",
    "from wiktionary_de_parser.dump_processor import WiktionaryDump\n",
    "\n",
    "\n",
    "dump = WiktionaryDump(dump_dir_path=\"tmp\")\n",
    "dump.download_dump()\n",
    "\n",
    "parser = WiktionaryParser()\n",
    "\n",
    "for page in dump.pages():\n",
    "    if page.redirect_to:\n",
    "        continue\n",
    "\n",
    "    if page.name != \"Abend\":\n",
    "        continue\n",
    "\n",
    "    for entry in parser.entries_from_page(page):\n",
    "        results = parser.parse_entry(entry)\n",
    "\n",
    "        pprint(results)\n",
    "    break"
   ]
  }
 ],
 "metadata": {
  "kernelspec": {
   "display_name": ".venv",
   "language": "python",
   "name": "python3"
  },
  "language_info": {
   "codemirror_mode": {
    "name": "ipython",
    "version": 3
   },
   "file_extension": ".py",
   "mimetype": "text/x-python",
   "name": "python",
   "nbconvert_exporter": "python",
   "pygments_lexer": "ipython3",
   "version": "3.11.3"
  }
 },
 "nbformat": 4,
 "nbformat_minor": 2
}
