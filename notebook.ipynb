{
 "cells": [
  {
   "cell_type": "code",
   "execution_count": 10,
   "metadata": {},
   "outputs": [
    {
     "name": "stdout",
     "output_type": "stream",
     "text": [
      "Dump file already exists.\n"
     ]
    }
   ],
   "source": [
    "from wiktionary_de_parser.dump_processor import WiktionaryDump\n",
    "\n",
    "\n",
    "dump = WiktionaryDump(dump_dir_path=\"tmp\")\n",
    "dump.download_latest_dump()"
   ]
  },
  {
   "cell_type": "code",
   "execution_count": 15,
   "metadata": {},
   "outputs": [
    {
     "name": "stderr",
     "output_type": "stream",
     "text": [
      "Parsing Wiktionary dump: 1244387it [01:21, 15280.78it/s]\n"
     ]
    }
   ],
   "source": [
    "for title, text, redirect_to, model in dump.iter_entries():\n",
    "    if redirect_to:\n",
    "        print(title, text, redirect_to, model)"
   ]
  }
 ],
 "metadata": {
  "kernelspec": {
   "display_name": ".venv",
   "language": "python",
   "name": "python3"
  },
  "language_info": {
   "codemirror_mode": {
    "name": "ipython",
    "version": 3
   },
   "file_extension": ".py",
   "mimetype": "text/x-python",
   "name": "python",
   "nbconvert_exporter": "python",
   "pygments_lexer": "ipython3",
   "version": "3.11.7"
  }
 },
 "nbformat": 4,
 "nbformat_minor": 2
}
