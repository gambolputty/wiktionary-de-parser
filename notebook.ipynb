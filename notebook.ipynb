{
 "cells": [
  {
   "cell_type": "code",
   "execution_count": 1,
   "metadata": {},
   "outputs": [],
   "source": [
    "from wiktionary_de_parser.dump_processor import WiktionaryDump\n",
    "\n",
    "\n",
    "dump = WiktionaryDump(dump_dir_path=\"tmp\")\n",
    "dump.download_dump()"
   ]
  },
  {
   "cell_type": "code",
   "execution_count": 36,
   "metadata": {},
   "outputs": [
    {
     "name": "stdout",
     "output_type": "stream",
     "text": [
      "• Zoologie, speziell Ornithologie:\n",
      "  • ein Vogel der Ordnung Psittaciformes. Es sind vorwiegend in den Tropen beheimatete, in zahlreichen Arten vorkommende, oft auffällig (leuchtend) farbige, Vögel mit einem stark nach unten gekrümmten (Ober-)Schnabel und einem Kletterfuß mit zwei nach vorne und zwei nach hinten gerichteten Zehen. Viele Papageienarten können die menschliche Sprache oder andere Geräusche nachahmen.\n",
      "• [übertr., va.]\n",
      "  • zumeist (auf einen Pfahl, Mast oder dergleichen) aufgestecktes, aus Holz oder Pappe und in (stilisierter) Form eines Vogels gefertigtes Ziel (Schützenvogel), nach dem geschossen wird\n",
      "  • jedweder Vogel, der zum Sprechen abgerichtet werden kann\n",
      "• [übertr., ugs.]\n",
      "  • schwatzhafte Person, die nur Vorgesagtes oder Gehörtes nachspricht (ohne es inhaltlich erfasst zu haben)\n",
      "  • begleitender Assistent höherer Vorgesetzter\n",
      "  • Schauspieler, der sich nur an den Wortlaut des Textbuches hält, aber nicht zu improvisieren vermag\n",
      "  • Schüler, der die Klasse wiederholen muss\n",
      "  • weibliche Person, die stark geschminkt ist\n",
      "  • Frau mit auffälliger Bekleidung\n",
      "• [übertr., landsch.]\n",
      "  • pfälzisch: Ehefrau, die geschmacklos und übertrieben gekleidet ist und daher als hässlich empfunden wird\n",
      "  • [abw., reg.] rheinisch  südhessisch  (Nieder-Hilbersheim): schwatzhaftes beziehungsweise geschwätziges Weib\n",
      "  • [reg.] südhessisch  (Ober-Roden): jemand, der andere nachahmt\n",
      "  • [reg.] südhessisch  (Wöllstein): jemand, der alles nachspricht\n",
      "  • [reg.] rheinisch  (Kempen, Lobberich): am Wasser lebendes, stabförmiges Raubinsekt mit vier nicht faltbaren Flügeln\n",
      "\n"
     ]
    }
   ],
   "source": [
    "from wiktionary_de_parser import WiktionaryParser\n",
    "\n",
    "parser = WiktionaryParser()\n",
    "output = \"\"\n",
    "\n",
    "for page in dump.pages():\n",
    "    if page.redirect_to:\n",
    "        continue\n",
    "\n",
    "    if page.name != \"Papagei\":\n",
    "        continue\n",
    "\n",
    "    for entry in parser.entries_from_page(page):\n",
    "        entry_parsed = parser.parse_entry(entry)\n",
    "\n",
    "        if entry_parsed.meanings is None:\n",
    "            continue\n",
    "\n",
    "        for wiki_list in entry_parsed.meanings.items:\n",
    "            output += f\"{wiki_list.to_string()}\\n\"\n",
    "            pass\n",
    "\n",
    "    if page.name == \"Papagei\":\n",
    "        break\n",
    "\n",
    "\n",
    "print(output)\n",
    "\n",
    "# 13m 19s"
   ]
  }
 ],
 "metadata": {
  "kernelspec": {
   "display_name": ".venv",
   "language": "python",
   "name": "python3"
  },
  "language_info": {
   "codemirror_mode": {
    "name": "ipython",
    "version": 3
   },
   "file_extension": ".py",
   "mimetype": "text/x-python",
   "name": "python",
   "nbconvert_exporter": "python",
   "pygments_lexer": "ipython3",
   "version": "3.11.3"
  }
 },
 "nbformat": 4,
 "nbformat_minor": 2
}
