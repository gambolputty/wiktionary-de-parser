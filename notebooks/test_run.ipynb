{
 "cells": [
  {
   "cell_type": "code",
   "execution_count": null,
   "metadata": {},
   "outputs": [],
   "source": [
    "# Test as shown in README.md\n",
    "from wiktionary_de_parser import WiktionaryParser\n",
    "from wiktionary_de_parser.dump_processor import WiktionaryDump\n",
    "\n",
    "dump = WiktionaryDump(dump_dir_path=\"tmp\")\n",
    "dump.download_dump()\n",
    "parser = WiktionaryParser()\n",
    "\n",
    "for page in dump.pages():\n",
    "    if page.redirect_to:\n",
    "        continue\n",
    "\n",
    "    for entry in parser.entries_from_page(page):\n",
    "        entry_parsed = parser.parse_entry(entry, include_meanings=True)\n",
    "        print(entry_parsed)\n",
    "        print(\"\")\n"
   ]
  }
 ],
 "metadata": {
  "kernelspec": {
   "display_name": ".venv",
   "language": "python",
   "name": "python3"
  },
  "language_info": {
   "codemirror_mode": {
    "name": "ipython",
    "version": 3
   },
   "file_extension": ".py",
   "mimetype": "text/x-python",
   "name": "python",
   "nbconvert_exporter": "python",
   "pygments_lexer": "ipython3",
   "version": "3.12.4"
  }
 },
 "nbformat": 4,
 "nbformat_minor": 2
}
